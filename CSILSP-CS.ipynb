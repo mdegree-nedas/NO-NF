{
 "cells": [
  {
   "cell_type": "markdown",
   "metadata": {},
   "source": [
    "# CSILSP-CS"
   ]
  },
  {
   "cell_type": "code",
   "execution_count": 1,
   "metadata": {},
   "outputs": [],
   "source": [
    "import gurobipy as gb\n",
    "from CSILSPGenerator import GeneratorTW_CS"
   ]
  },
  {
   "cell_type": "markdown",
   "metadata": {},
   "source": [
    "#### Decision variables:\n",
    "\n",
    "$$\n",
    "X_t = \\begin{cases}\n",
    "\\text{ quantity of product to be produced/supplied in period t }\n",
    "\\end{cases}\n",
    "$$\n",
    "\n",
    "$$\n",
    "I_t = \\begin{cases}\n",
    "\\text{ inventory level at the end of period t }\n",
    "\\end{cases}\n",
    "$$\n",
    "\n",
    "$$\n",
    "Y_t = \\begin{cases}\n",
    "1 \\text{ if } X_t > 0\\\\\n",
    "0 \\text{ otherwise }\n",
    "\\end{cases}\n",
    "$$"
   ]
  },
  {
   "cell_type": "markdown",
   "metadata": {},
   "source": [
    "#### Parameters:\n",
    "\n",
    "$$\n",
    "T = \\begin{cases}\n",
    "\\text{ number of periods in the horizon }\n",
    "\\end{cases}\n",
    "$$\n",
    "\n",
    "$$\n",
    "d_t = \\begin{cases}\n",
    "\\text{ Customer aggregate demand that must } \\\\ \\text{ be delivered at the end of period t }\n",
    "\\end{cases}\n",
    "$$\n",
    "\n",
    "$$\n",
    "h_t = \\begin{cases}\n",
    "\\text{ Holding cost per unit of product in stock at the end of period t }\n",
    "\\end{cases}\n",
    "$$\n",
    "\n",
    "$$\n",
    "p_t = \\begin{cases}\n",
    "\\text{ Unit production/supplying cost in period t }\n",
    "\\end{cases}\n",
    "$$\n",
    "\n",
    "$$\n",
    "s_t = \\begin{cases}\n",
    "\\text{ Fixed setup cost in period t }\n",
    "\\end{cases}\n",
    "$$\n",
    "\n",
    "$$\n",
    "C_t = \\begin{cases}\n",
    "\\text{ Production/Supply capacity at period t }\n",
    "\\end{cases}\n",
    "$$"
   ]
  },
  {
   "cell_type": "markdown",
   "metadata": {},
   "source": [
    "#### CSILSP-CS\n",
    "\n",
    "$$\n",
    "\\begin{alignat}{3}\n",
    "& \\min \\sum_{t=1}^{T} (h_tI_t + p_tX_t + s_tY_t) &\\\\\n",
    "\\text{s.t.} \\;\\;\\;\\;\\;&\\\\\n",
    "I_t &= I_{t-1} + X_t - d_t \\;\\; , & \\forall t \\;\\;\\\\\n",
    "X_t &\\leq \\sum_{k=t}^{T} d_kY_t \\;\\; , & \\forall t\\;\\;\\\\\n",
    "X_t,I_t &\\geq 0 \\;\\; , & \\forall t\\;\\;\\\\\n",
    "X_t & \\leq C_tY_t \\;\\; , & \\forall t\\;\\;\\\\\n",
    "\\sum_{k=1}^{t}X_k &\\leq \\sum_{k=1}^{t}\\sum_{j=k}^{T}d_{k,j} \\;\\; , & \\forall t\\;\\;\\\\\n",
    "\\sum_{k=t_1}^{t_2}X_k &\\geq \\sum_{k=t_1}^{t_2}\\sum_{j=k}^{t_2}d_{k,j} \\;\\; , & \\forall t_1,t_2 (t_1 \\leq t_2)\\;\\;\\\\\n",
    "Y_t &\\in \\{0,1\\} \\;\\; , & \\forall t \\;\\;\n",
    "\\end{alignat}\n",
    "$$"
   ]
  },
  {
   "cell_type": "code",
   "execution_count": 2,
   "metadata": {},
   "outputs": [],
   "source": [
    "# generation parameters\n",
    "\n",
    "if __name__ == '__main__':\n",
    "    T = 8\n",
    "    l_b = 10\n",
    "    u_b = 20"
   ]
  },
  {
   "cell_type": "code",
   "execution_count": 3,
   "metadata": {},
   "outputs": [],
   "source": [
    "# generate instance\n",
    "\n",
    "if __name__ == '__main__' or __name__ == '__autoexec__':\n",
    "    instance = GeneratorTW_CS(T)\n",
    "    instance.generate(a=l_b,b=u_b,dw_a=l_b,dw_b=u_b)"
   ]
  },
  {
   "cell_type": "code",
   "execution_count": 4,
   "metadata": {},
   "outputs": [
    {
     "name": "stdout",
     "output_type": "stream",
     "text": [
      "       d     C   h   p   s\n",
      "T                         \n",
      "0    0.0  97.0  19  16  11\n",
      "1   20.0  92.0  12  16  11\n",
      "2   21.0  91.0  18  20  14\n",
      "3   38.0  92.0  18  11  14\n",
      "4   58.0  65.0  11  16  17\n",
      "5   75.0  72.0  14  10  15\n",
      "6   97.0  62.0  15  16  10\n",
      "7  103.0  20.0  14  17  11\n"
     ]
    }
   ],
   "source": [
    "if __name__ == '__main__':\n",
    "    print(instance.printData())"
   ]
  },
  {
   "cell_type": "code",
   "execution_count": 5,
   "metadata": {},
   "outputs": [
    {
     "name": "stdout",
     "output_type": "stream",
     "text": [
      "{(0, 0): 0, (0, 1): 20, (0, 2): 11, (0, 3): 14, (0, 4): 13, (0, 5): 18, (0, 6): 12, (0, 7): 13, (1, 1): 0, (1, 2): 10, (1, 3): 11, (1, 4): 15, (1, 5): 14, (1, 6): 18, (1, 7): 20, (2, 2): 0, (2, 3): 13, (2, 4): 10, (2, 5): 15, (2, 6): 18, (2, 7): 12, (3, 3): 0, (3, 4): 20, (3, 5): 15, (3, 6): 10, (3, 7): 11, (4, 4): 0, (4, 5): 13, (4, 6): 20, (4, 7): 17, (5, 5): 0, (5, 6): 19, (5, 7): 14, (6, 6): 0, (6, 7): 16, (7, 7): 0}\n"
     ]
    }
   ],
   "source": [
    "if __name__ == '__main__':\n",
    "    print(instance.get_dw())"
   ]
  },
  {
   "cell_type": "code",
   "execution_count": 6,
   "metadata": {},
   "outputs": [],
   "source": [
    "# variable bindings\n",
    "\n",
    "T = instance.get_T()\n",
    "d_w = instance.get_dw()\n",
    "d = instance.get_d()\n",
    "C = instance.get_C()\n",
    "h = instance.get_h()\n",
    "p = instance.get_p()\n",
    "s = instance.get_s()"
   ]
  },
  {
   "cell_type": "code",
   "execution_count": 7,
   "metadata": {},
   "outputs": [
    {
     "name": "stdout",
     "output_type": "stream",
     "text": [
      "Academic license - for non-commercial use only\n"
     ]
    }
   ],
   "source": [
    "# model\n",
    "\n",
    "csilsp_cs = gb.Model()"
   ]
  },
  {
   "cell_type": "code",
   "execution_count": 8,
   "metadata": {},
   "outputs": [],
   "source": [
    "# decision variables\n",
    "\n",
    "X = csilsp_cs.addVars(T,vtype=gb.GRB.CONTINUOUS,lb=0.0, name='X')\n",
    "\n",
    "I = csilsp_cs.addVars(T,vtype=gb.GRB.CONTINUOUS,lb=0.0, name='I')\n",
    "\n",
    "Y = csilsp_cs.addVars(T,vtype=gb.GRB.BINARY,name='Y')\n",
    "\n",
    "csilsp_cs.update()\n",
    "csilsp_cs.write('csilsp_cs.lp')"
   ]
  },
  {
   "cell_type": "markdown",
   "metadata": {},
   "source": [
    "$$\n",
    "\\begin{alignat}{3}\n",
    "& \\min \\sum_{t=1}^{T} (h_tI_t + p_tX_t + s_tY_t) &\n",
    "\\end{alignat}\n",
    "$$"
   ]
  },
  {
   "cell_type": "code",
   "execution_count": 9,
   "metadata": {},
   "outputs": [],
   "source": [
    "# objective function\n",
    "\n",
    "csilsp_cs.setObjective(I.prod(h) + X.prod(p) + Y.prod(s),gb.GRB.MINIMIZE)\n",
    "\n",
    "csilsp_cs.update()\n",
    "csilsp_cs.write('csilsp_cs.lp')"
   ]
  },
  {
   "cell_type": "markdown",
   "metadata": {},
   "source": [
    "$$\n",
    "\\begin{alignat}{3}\n",
    "I_t &= I_{t-1} + X_t - d_t \\;\\; , & \\forall t\n",
    "\\end{alignat}\n",
    "$$"
   ]
  },
  {
   "cell_type": "code",
   "execution_count": 10,
   "metadata": {},
   "outputs": [],
   "source": [
    "# constraints\n",
    "\n",
    "csilsp_cs.addConstrs( ( I[t] == I[t-1] + X[t] - d[t] for t in range(1,T-1) ),name='constrI')\n",
    "\n",
    "csilsp_cs.update()\n",
    "csilsp_cs.write('csilsp_cs.lp')"
   ]
  },
  {
   "cell_type": "code",
   "execution_count": 11,
   "metadata": {},
   "outputs": [],
   "source": [
    "# Assumption: starting and ending inventories are null\n",
    "\n",
    "csilsp_cs.addConstr(I[0] == 0,name='startInventoryNull')\n",
    "csilsp_cs.addConstr(I[T-1] == 0,name='endInventoryNull')\n",
    "\n",
    "csilsp_cs.update()\n",
    "csilsp_cs.write('csilsp_cs.lp')"
   ]
  },
  {
   "cell_type": "markdown",
   "metadata": {},
   "source": [
    "$$\n",
    "\\begin{alignat}{3}\n",
    "X_t &\\leq \\sum_{k=t}^{T} d_kY_t \\;\\; , & \\forall t\n",
    "\\end{alignat}\n",
    "$$"
   ]
  },
  {
   "cell_type": "code",
   "execution_count": 12,
   "metadata": {},
   "outputs": [],
   "source": [
    "csilsp_cs.addConstrs( ( X[t] <= (gb.quicksum(d[k] for k in range(t,T)))*Y[t] for t in range(T) ),name='constX')\n",
    "\n",
    "csilsp_cs.update()\n",
    "csilsp_cs.write('csilsp_cs.lp')"
   ]
  },
  {
   "cell_type": "markdown",
   "metadata": {},
   "source": [
    "Utilizzare vincolo (6) o vincolo (7):"
   ]
  },
  {
   "cell_type": "markdown",
   "metadata": {},
   "source": [
    "$$\n",
    "\\begin{alignat}{3}\n",
    "X_t & \\leq C_t \\;\\; , & \\forall t \\;\\; (6)\n",
    "\\end{alignat}\n",
    "$$"
   ]
  },
  {
   "cell_type": "code",
   "execution_count": 13,
   "metadata": {},
   "outputs": [],
   "source": [
    "#csilsp_cs.addConstrs( ( X[t] <= C[t] for t in range(T) ),name='constrC')\n",
    "\n",
    "#csilsp_cs.update()\n",
    "#csilsp_cs.write('csilsp_cs.lp')"
   ]
  },
  {
   "cell_type": "markdown",
   "metadata": {},
   "source": [
    "$$\n",
    "\\begin{alignat}{3}\n",
    "X_t & \\leq C_tY_t \\;\\; , & \\forall t \\;\\; (7)\n",
    "\\end{alignat}\n",
    "$$"
   ]
  },
  {
   "cell_type": "code",
   "execution_count": 14,
   "metadata": {},
   "outputs": [],
   "source": [
    "csilsp_cs.addConstrs( ( X[t] <= C[t]*Y[t] for t in range(T) ),name='constrC')\n",
    "\n",
    "csilsp_cs.update()\n",
    "csilsp_cs.write('csilsp_cs.lp')"
   ]
  },
  {
   "cell_type": "markdown",
   "metadata": {},
   "source": [
    "$$\n",
    "\\begin{alignat}{3}\n",
    "\\sum_{k=1}^{t}X_k &\\leq \\sum_{k=1}^{t}\\sum_{j=k}^{T}d_{k,j} \\;\\; , & \\forall t\\;\\;\n",
    "\\end{alignat}\n",
    "$$"
   ]
  },
  {
   "cell_type": "code",
   "execution_count": 15,
   "metadata": {},
   "outputs": [],
   "source": [
    "csilsp_cs.addConstrs( ( (gb.quicksum(X[k] for k in range(t+1))) <= \\\n",
    "                         (gb.quicksum(d_w[k,j] for k in range(t+1) for j in range(k,T))) \\\n",
    "                         for t in range(T) ),name='constrTimeWindows')\n",
    "\n",
    "csilsp_cs.update()\n",
    "csilsp_cs.write('csilsp_cs.lp')"
   ]
  },
  {
   "cell_type": "markdown",
   "metadata": {},
   "source": [
    "$$\n",
    "\\begin{alignat}{3}\n",
    "\\sum_{k=t_1}^{t_2}X_k &\\geq \\sum_{k=t_1}^{t_2}\\sum_{j=k}^{t_2}d_{k,j} \\;\\; , & \\forall t_1,t_2 (t_1 \\leq t_2)\\;\\;\n",
    "\\end{alignat}\n",
    "$$"
   ]
  },
  {
   "cell_type": "code",
   "execution_count": 16,
   "metadata": {},
   "outputs": [],
   "source": [
    "csilsp_cs.addConstrs( ( (gb.quicksum(X[k] for k in range(t1,t2+1))) >= \\\n",
    "                        (gb.quicksum(d_w[k,j] for k in range(t1,t2+1) for j in range(k,t2+1))) \\\n",
    "                        for t2 in range(T) for t1 in range(t2+1) ),name='constrTimeWindowsCS' )\n",
    "\n",
    "csilsp_cs.update()\n",
    "csilsp_cs.write('csilsp_cs.lp')"
   ]
  },
  {
   "cell_type": "code",
   "execution_count": 17,
   "metadata": {},
   "outputs": [
    {
     "name": "stdout",
     "output_type": "stream",
     "text": [
      "Optimize a model with 68 rows, 24 columns and 208 nonzeros\n",
      "Variable types: 16 continuous, 8 integer (8 binary)\n",
      "Coefficient statistics:\n",
      "  Matrix range     [1e+00, 4e+02]\n",
      "  Objective range  [1e+01, 2e+01]\n",
      "  Bounds range     [1e+00, 1e+00]\n",
      "  RHS range        [1e+01, 4e+02]\n",
      "Presolve removed 48 rows and 8 columns\n",
      "Presolve time: 0.00s\n",
      "Presolved: 20 rows, 16 columns, 71 nonzeros\n",
      "Variable types: 9 continuous, 7 integer (7 binary)\n",
      "\n",
      "Root relaxation: objective 7.452031e+03, 12 iterations, 0.00 seconds\n",
      "\n",
      "    Nodes    |    Current Node    |     Objective Bounds      |     Work\n",
      " Expl Unexpl |  Obj  Depth IntInf | Incumbent    BestBd   Gap | It/Node Time\n",
      "\n",
      "     0     0 7452.03077    0    3          - 7452.03077      -     -    0s\n",
      "H    0     0                    7474.0000000 7452.03077  0.29%     -    0s\n",
      "     0     0     cutoff    0      7474.00000 7474.00000  0.00%     -    0s\n",
      "\n",
      "Explored 1 nodes (14 simplex iterations) in 0.04 seconds\n",
      "Thread count was 4 (of 4 available processors)\n",
      "\n",
      "Solution count 1: 7474 \n",
      "\n",
      "Optimal solution found (tolerance 1.00e-04)\n",
      "Best objective 7.474000000000e+03, best bound 7.474000000000e+03, gap 0.0000%\n"
     ]
    }
   ],
   "source": [
    "# solve model\n",
    "\n",
    "csilsp_cs.optimize()"
   ]
  },
  {
   "cell_type": "code",
   "execution_count": 18,
   "metadata": {},
   "outputs": [
    {
     "name": "stdout",
     "output_type": "stream",
     "text": [
      "Soluzione ottima: 7474.0\n"
     ]
    }
   ],
   "source": [
    "if __name__ == '__main__':\n",
    "    print(\"Soluzione ottima:\",csilsp_cs.ObjVal)"
   ]
  },
  {
   "cell_type": "code",
   "execution_count": 19,
   "metadata": {},
   "outputs": [
    {
     "data": {
      "text/plain": [
       "{0: <gurobi.Var X[0] (value 97.0)>,\n",
       " 1: <gurobi.Var X[1] (value 20.0)>,\n",
       " 2: <gurobi.Var X[2] (value 21.0)>,\n",
       " 3: <gurobi.Var X[3] (value 69.0)>,\n",
       " 4: <gurobi.Var X[4] (value 65.0)>,\n",
       " 5: <gurobi.Var X[5] (value 72.0)>,\n",
       " 6: <gurobi.Var X[6] (value 62.0)>,\n",
       " 7: <gurobi.Var X[7] (value 6.0)>}"
      ]
     },
     "execution_count": 19,
     "metadata": {},
     "output_type": "execute_result"
    }
   ],
   "source": [
    "X"
   ]
  },
  {
   "cell_type": "code",
   "execution_count": 20,
   "metadata": {},
   "outputs": [
    {
     "data": {
      "text/plain": [
       "{0: <gurobi.Var Y[0] (value 1.0)>,\n",
       " 1: <gurobi.Var Y[1] (value 1.0)>,\n",
       " 2: <gurobi.Var Y[2] (value 1.0)>,\n",
       " 3: <gurobi.Var Y[3] (value 1.0)>,\n",
       " 4: <gurobi.Var Y[4] (value 1.0)>,\n",
       " 5: <gurobi.Var Y[5] (value 1.0)>,\n",
       " 6: <gurobi.Var Y[6] (value 1.0)>,\n",
       " 7: <gurobi.Var Y[7] (value 1.0)>}"
      ]
     },
     "execution_count": 20,
     "metadata": {},
     "output_type": "execute_result"
    }
   ],
   "source": [
    "Y"
   ]
  },
  {
   "cell_type": "code",
   "execution_count": 21,
   "metadata": {},
   "outputs": [
    {
     "data": {
      "text/plain": [
       "{0: <gurobi.Var I[0] (value 0.0)>,\n",
       " 1: <gurobi.Var I[1] (value 0.0)>,\n",
       " 2: <gurobi.Var I[2] (value 0.0)>,\n",
       " 3: <gurobi.Var I[3] (value 31.0)>,\n",
       " 4: <gurobi.Var I[4] (value 38.0)>,\n",
       " 5: <gurobi.Var I[5] (value 35.0)>,\n",
       " 6: <gurobi.Var I[6] (value 0.0)>,\n",
       " 7: <gurobi.Var I[7] (value 0.0)>}"
      ]
     },
     "execution_count": 21,
     "metadata": {},
     "output_type": "execute_result"
    }
   ],
   "source": [
    "I"
   ]
  },
  {
   "cell_type": "code",
   "execution_count": 22,
   "metadata": {},
   "outputs": [
    {
     "name": "stdout",
     "output_type": "stream",
     "text": [
      "Optimize time: 0.056963 sec\n"
     ]
    }
   ],
   "source": [
    "# execution time\n",
    "if __name__ == '__main__':\n",
    "    print(\"Optimize time: %.5g sec\" % csilsp_cs.Runtime)"
   ]
  },
  {
   "cell_type": "code",
   "execution_count": 23,
   "metadata": {},
   "outputs": [],
   "source": [
    "# Write results to file\n",
    "\n",
    "results = \"----------------------------------------------------------------\" + \"\\n\"\n",
    "results += \" Parameter T = %d \" % (T) + \"\\n\"\n",
    "results += \" Parameters d,h,p,s,C random generation from %d to %d \" % (l_b,u_b) + \"\\n\"\n",
    "results += \" Time window demands (d_w) random generation from %d to %d \" % (l_b,u_b) + \"\\n\"\n",
    "results += \" Execution time = %.5g sec \" % csilsp_cs.Runtime + \"\\n\"\n",
    "results += \"----------------------------------------------------------------\" + \"\\n\\n\\n\""
   ]
  },
  {
   "cell_type": "code",
   "execution_count": 24,
   "metadata": {},
   "outputs": [],
   "source": [
    "with open(\"csilsp_cs_results.txt\", \"a\") as write_file:\n",
    "    write_file.write(results)"
   ]
  }
 ],
 "metadata": {
  "kernelspec": {
   "display_name": "Python 3",
   "language": "python",
   "name": "python3"
  },
  "language_info": {
   "codemirror_mode": {
    "name": "ipython",
    "version": 3
   },
   "file_extension": ".py",
   "mimetype": "text/x-python",
   "name": "python",
   "nbconvert_exporter": "python",
   "pygments_lexer": "ipython3",
   "version": "3.7.3"
  }
 },
 "nbformat": 4,
 "nbformat_minor": 2
}
