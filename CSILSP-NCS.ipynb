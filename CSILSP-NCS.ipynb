{
 "cells": [
  {
   "cell_type": "markdown",
   "metadata": {},
   "source": [
    "# CSILSP-NCS"
   ]
  },
  {
   "cell_type": "code",
   "execution_count": 1,
   "metadata": {},
   "outputs": [],
   "source": [
    "import gurobipy as gb\n",
    "from CSILSPGenerator import GeneratorTW_NCS"
   ]
  },
  {
   "cell_type": "markdown",
   "metadata": {},
   "source": [
    "#### Decision variables:\n",
    "\n",
    "$$\n",
    "X_t = \\begin{cases}\n",
    "\\text{ quantity of product to be produced/supplied in period t }\n",
    "\\end{cases}\n",
    "$$\n",
    "\n",
    "$$\n",
    "I_t = \\begin{cases}\n",
    "\\text{ inventory level at the end of period t }\n",
    "\\end{cases}\n",
    "$$\n",
    "\n",
    "$$\n",
    "Y_t = \\begin{cases}\n",
    "1 \\text{ if } X_t > 0\\\\\n",
    "0 \\text{ otherwise }\n",
    "\\end{cases}\n",
    "$$"
   ]
  },
  {
   "cell_type": "markdown",
   "metadata": {},
   "source": [
    "#### Parameters:\n",
    "\n",
    "$$\n",
    "T = \\begin{cases}\n",
    "\\text{ number of periods in the horizon }\n",
    "\\end{cases}\n",
    "$$\n",
    "\n",
    "$$\n",
    "d_t = \\begin{cases}\n",
    "\\text{ Customer aggregate demand that must } \\\\ \\text{ be delivered at the end of period t }\n",
    "\\end{cases}\n",
    "$$\n",
    "\n",
    "$$\n",
    "h_t = \\begin{cases}\n",
    "\\text{ Holding cost per unit of product in stock at the end of period t }\n",
    "\\end{cases}\n",
    "$$\n",
    "\n",
    "$$\n",
    "p_t = \\begin{cases}\n",
    "\\text{ Unit production/supplying cost in period t }\n",
    "\\end{cases}\n",
    "$$\n",
    "\n",
    "$$\n",
    "s_t = \\begin{cases}\n",
    "\\text{ Fixed setup cost in period t }\n",
    "\\end{cases}\n",
    "$$\n",
    "\n",
    "$$\n",
    "C_t = \\begin{cases}\n",
    "\\text{ Production/Supply capacity at period t }\n",
    "\\end{cases}\n",
    "$$"
   ]
  },
  {
   "cell_type": "markdown",
   "metadata": {},
   "source": [
    "#### CSILSP-NCS\n",
    "\n",
    "$$\n",
    "\\begin{alignat}{3}\n",
    "& \\min \\sum_{t=1}^{T} (h_tI_t + p_tX_t + s_tY_t) &\\\\\n",
    "\\text{s.t.} \\;\\;\\;\\;\\;&\\\\\n",
    "I_t &= I_{t-1} + X_t - d_t \\;\\; , & \\forall t \\;\\;\\\\\n",
    "X_t &\\leq \\sum_{k=t}^{T} d_kY_t \\;\\; , & \\forall t\\;\\;\\\\\n",
    "X_t,I_t &\\geq 0 \\;\\; , & \\forall t\\;\\;\\\\\n",
    "X_t & \\leq C_tY_t \\;\\; , & \\forall t\\;\\;\\\\\n",
    "\\sum_{k=1}^{t}X_k &\\leq \\sum_{k=1}^{t}\\sum_{j=k}^{T}d_{k,j} \\;\\; , & \\forall t\\;\\;\\\\\n",
    "Y_t &\\in \\{0,1\\} \\;\\; , & \\forall t \\;\\;\n",
    "\\end{alignat}\n",
    "$$"
   ]
  },
  {
   "cell_type": "code",
   "execution_count": 2,
   "metadata": {},
   "outputs": [],
   "source": [
    "# generation parameters\n",
    "\n",
    "if __name__ == '__main__':\n",
    "    T = 8\n",
    "    l_b = 10\n",
    "    u_b = 20"
   ]
  },
  {
   "cell_type": "code",
   "execution_count": 3,
   "metadata": {},
   "outputs": [],
   "source": [
    "# generate instance\n",
    "\n",
    "if __name__ == '__main__' or __name__ == '__autoexec__':\n",
    "    instance = GeneratorTW_NCS(T)\n",
    "    instance.generate(a=l_b,b=u_b,dw_a=l_b,dw_b=u_b)"
   ]
  },
  {
   "cell_type": "code",
   "execution_count": 4,
   "metadata": {},
   "outputs": [
    {
     "name": "stdout",
     "output_type": "stream",
     "text": [
      "      d      C   h   p   s\n",
      "T                         \n",
      "0   0.0  200.0  12  15  14\n",
      "1  16.0  206.0  20  12  20\n",
      "2  14.0  200.0  16  17  12\n",
      "3  18.0  205.0  16  17  15\n",
      "4  10.0  202.0  15  17  20\n",
      "5  19.0  205.0  20  19  11\n",
      "6  15.0  198.0  14  13  14\n",
      "7  96.0  204.0  13  19  15\n"
     ]
    }
   ],
   "source": [
    "if __name__ == '__main__':\n",
    "    print(instance.printData())"
   ]
  },
  {
   "cell_type": "code",
   "execution_count": 5,
   "metadata": {},
   "outputs": [
    {
     "name": "stdout",
     "output_type": "stream",
     "text": [
      "{(0, 0): 0, (0, 1): 16, (0, 2): 14, (0, 3): 18, (0, 4): 10, (0, 5): 19, (0, 6): 15, (0, 7): 13, (1, 1): 0, (1, 2): 0, (1, 3): 0, (1, 4): 0, (1, 5): 0, (1, 6): 0, (1, 7): 13, (2, 2): 0, (2, 3): 0, (2, 4): 0, (2, 5): 0, (2, 6): 0, (2, 7): 10, (3, 3): 0, (3, 4): 0, (3, 5): 0, (3, 6): 0, (3, 7): 16, (4, 4): 0, (4, 5): 0, (4, 6): 0, (4, 7): 10, (5, 5): 0, (5, 6): 0, (5, 7): 14, (6, 6): 0, (6, 7): 20, (7, 7): 0}\n"
     ]
    }
   ],
   "source": [
    "if __name__ == '__main__':\n",
    "    print(instance.get_dw())"
   ]
  },
  {
   "cell_type": "code",
   "execution_count": 6,
   "metadata": {},
   "outputs": [],
   "source": [
    "# variable bindings\n",
    "\n",
    "T = instance.get_T()\n",
    "d_w = instance.get_dw()\n",
    "d = instance.get_d()\n",
    "C = instance.get_C()\n",
    "h = instance.get_h()\n",
    "p = instance.get_p()\n",
    "s = instance.get_s()"
   ]
  },
  {
   "cell_type": "code",
   "execution_count": 7,
   "metadata": {},
   "outputs": [
    {
     "name": "stdout",
     "output_type": "stream",
     "text": [
      "Academic license - for non-commercial use only\n"
     ]
    }
   ],
   "source": [
    "# model\n",
    "\n",
    "csilsp_ncs = gb.Model()"
   ]
  },
  {
   "cell_type": "code",
   "execution_count": 8,
   "metadata": {},
   "outputs": [],
   "source": [
    "# decision variables\n",
    "\n",
    "X = csilsp_ncs.addVars(T,vtype=gb.GRB.CONTINUOUS,lb=0.0, name='X')\n",
    "\n",
    "I = csilsp_ncs.addVars(T,vtype=gb.GRB.CONTINUOUS,lb=0.0, name='I')\n",
    "\n",
    "Y = csilsp_ncs.addVars(T,vtype=gb.GRB.BINARY,name='Y')\n",
    "\n",
    "csilsp_ncs.update()\n",
    "csilsp_ncs.write('csilsp_ncs.lp')"
   ]
  },
  {
   "cell_type": "markdown",
   "metadata": {},
   "source": [
    "$$\n",
    "\\begin{alignat}{3}\n",
    "& \\min \\sum_{t=1}^{T} (h_tI_t + p_tX_t + s_tY_t) &\n",
    "\\end{alignat}\n",
    "$$"
   ]
  },
  {
   "cell_type": "code",
   "execution_count": 9,
   "metadata": {},
   "outputs": [],
   "source": [
    "# objective function\n",
    "\n",
    "csilsp_ncs.setObjective(I.prod(h) + X.prod(p) + Y.prod(s),gb.GRB.MINIMIZE)\n",
    "\n",
    "csilsp_ncs.update()\n",
    "csilsp_ncs.write('csilsp_ncs.lp')"
   ]
  },
  {
   "cell_type": "markdown",
   "metadata": {},
   "source": [
    "$$\n",
    "\\begin{alignat}{3}\n",
    "I_t &= I_{t-1} + X_t - d_t \\;\\; , & \\forall t\n",
    "\\end{alignat}\n",
    "$$"
   ]
  },
  {
   "cell_type": "code",
   "execution_count": 10,
   "metadata": {},
   "outputs": [],
   "source": [
    "# constraints\n",
    "\n",
    "csilsp_ncs.addConstrs( ( I[t] == I[t-1] + X[t] - d[t] for t in range(1,T-1) ),name='constrI')\n",
    "\n",
    "csilsp_ncs.update()\n",
    "csilsp_ncs.write('csilsp_ncs.lp')"
   ]
  },
  {
   "cell_type": "code",
   "execution_count": 11,
   "metadata": {},
   "outputs": [],
   "source": [
    "# Assumption: starting and ending inventories are null\n",
    "\n",
    "csilsp_ncs.addConstr(I[0] == 0,name='startInventoryNull')\n",
    "csilsp_ncs.addConstr(I[T-1] == 0,name='endInventoryNull')\n",
    "\n",
    "csilsp_ncs.update()\n",
    "csilsp_ncs.write('csilsp_ncs.lp')"
   ]
  },
  {
   "cell_type": "markdown",
   "metadata": {},
   "source": [
    "$$\n",
    "\\begin{alignat}{3}\n",
    "X_t &\\leq \\sum_{k=t}^{T} d_kY_t \\;\\; , & \\forall t\n",
    "\\end{alignat}\n",
    "$$"
   ]
  },
  {
   "cell_type": "code",
   "execution_count": 12,
   "metadata": {},
   "outputs": [],
   "source": [
    "csilsp_ncs.addConstrs( ( X[t] <= (gb.quicksum(d[k] for k in range(t,T)))*Y[t] for t in range(T) ),name='constX')\n",
    "\n",
    "csilsp_ncs.update()\n",
    "csilsp_ncs.write('csilsp_ncs.lp')"
   ]
  },
  {
   "cell_type": "markdown",
   "metadata": {},
   "source": [
    "Utilizzare vincolo (6) o vincolo (7):"
   ]
  },
  {
   "cell_type": "markdown",
   "metadata": {},
   "source": [
    "$$\n",
    "\\begin{alignat}{3}\n",
    "X_t & \\leq C_t \\;\\; , & \\forall t \\;\\; (6)\n",
    "\\end{alignat}\n",
    "$$"
   ]
  },
  {
   "cell_type": "code",
   "execution_count": 13,
   "metadata": {},
   "outputs": [],
   "source": [
    "#csilsp_ncs.addConstrs( ( X[t] <= C[t] for t in range(T) ),name='constrC')\n",
    "\n",
    "#csilsp_ncs.update()\n",
    "#csilsp_ncs.write('csilsp_ncs.lp')"
   ]
  },
  {
   "cell_type": "markdown",
   "metadata": {},
   "source": [
    "$$\n",
    "\\begin{alignat}{3}\n",
    "X_t & \\leq C_tY_t \\;\\; , & \\forall t \\;\\; (7)\n",
    "\\end{alignat}\n",
    "$$"
   ]
  },
  {
   "cell_type": "code",
   "execution_count": 14,
   "metadata": {},
   "outputs": [],
   "source": [
    "csilsp_ncs.addConstrs( ( X[t] <= C[t]*Y[t] for t in range(T) ),name='constrC')\n",
    "\n",
    "csilsp_ncs.update()\n",
    "csilsp_ncs.write('csilsp_ncs.lp')"
   ]
  },
  {
   "cell_type": "markdown",
   "metadata": {},
   "source": [
    "$$\n",
    "\\begin{alignat}{3}\n",
    "\\sum_{k=1}^{t}X_k &\\leq \\sum_{k=1}^{t}\\sum_{j=k}^{T}d_{k,j} \\;\\; , & \\forall t\\;\\;\n",
    "\\end{alignat}\n",
    "$$"
   ]
  },
  {
   "cell_type": "code",
   "execution_count": 15,
   "metadata": {},
   "outputs": [],
   "source": [
    "csilsp_ncs.addConstrs( ( (gb.quicksum(X[k] for k in range(t+1))) <= \\\n",
    "                         (gb.quicksum(d_w[k,j] for k in range(t+1) for j in range(k,T))) \\\n",
    "                         for t in range(T) ),name='constrTimeWindows')\n",
    "\n",
    "csilsp_ncs.update()\n",
    "csilsp_ncs.write('csilsp_ncs.lp')"
   ]
  },
  {
   "cell_type": "code",
   "execution_count": 16,
   "metadata": {},
   "outputs": [
    {
     "name": "stdout",
     "output_type": "stream",
     "text": [
      "Optimize a model with 32 rows, 24 columns and 88 nonzeros\n",
      "Variable types: 16 continuous, 8 integer (8 binary)\n",
      "Coefficient statistics:\n",
      "  Matrix range     [1e+00, 2e+02]\n",
      "  Objective range  [1e+01, 2e+01]\n",
      "  Bounds range     [1e+00, 1e+00]\n",
      "  RHS range        [1e+01, 2e+02]\n",
      "Presolve removed 21 rows and 10 columns\n",
      "Presolve time: 0.00s\n",
      "Presolved: 11 rows, 14 columns, 31 nonzeros\n",
      "Variable types: 9 continuous, 5 integer (5 binary)\n",
      "\n",
      "Root relaxation: objective 1.507628e+03, 11 iterations, 0.00 seconds\n",
      "\n",
      "    Nodes    |    Current Node    |     Objective Bounds      |     Work\n",
      " Expl Unexpl |  Obj  Depth IntInf | Incumbent    BestBd   Gap | It/Node Time\n",
      "\n",
      "     0     0 1507.62838    0    4          - 1507.62838      -     -    0s\n",
      "H    0     0                    1554.0000000 1507.62838  2.98%     -    0s\n",
      "     0     0     cutoff    0      1554.00000 1554.00000  0.00%     -    0s\n",
      "\n",
      "Explored 1 nodes (14 simplex iterations) in 0.05 seconds\n",
      "Thread count was 4 (of 4 available processors)\n",
      "\n",
      "Solution count 1: 1554 \n",
      "\n",
      "Optimal solution found (tolerance 1.00e-04)\n",
      "Best objective 1.554000000000e+03, best bound 1.554000000000e+03, gap 0.0000%\n"
     ]
    }
   ],
   "source": [
    "# solve model\n",
    "\n",
    "csilsp_ncs.optimize()"
   ]
  },
  {
   "cell_type": "code",
   "execution_count": 17,
   "metadata": {},
   "outputs": [
    {
     "name": "stdout",
     "output_type": "stream",
     "text": [
      "Soluzione ottima: 1554.0\n"
     ]
    }
   ],
   "source": [
    "if __name__ == '__main__':\n",
    "    print(\"Soluzione ottima:\",csilsp_ncs.ObjVal)"
   ]
  },
  {
   "cell_type": "code",
   "execution_count": 18,
   "metadata": {},
   "outputs": [
    {
     "data": {
      "text/plain": [
       "{0: <gurobi.Var X[0] (value 0.0)>,\n",
       " 1: <gurobi.Var X[1] (value 16.0)>,\n",
       " 2: <gurobi.Var X[2] (value 14.0)>,\n",
       " 3: <gurobi.Var X[3] (value 18.0)>,\n",
       " 4: <gurobi.Var X[4] (value 10.0)>,\n",
       " 5: <gurobi.Var X[5] (value 19.0)>,\n",
       " 6: <gurobi.Var X[6] (value 15.0)>,\n",
       " 7: <gurobi.Var X[7] (value 0.0)>}"
      ]
     },
     "execution_count": 18,
     "metadata": {},
     "output_type": "execute_result"
    }
   ],
   "source": [
    "X"
   ]
  },
  {
   "cell_type": "code",
   "execution_count": 19,
   "metadata": {},
   "outputs": [
    {
     "data": {
      "text/plain": [
       "{0: <gurobi.Var Y[0] (value 0.0)>,\n",
       " 1: <gurobi.Var Y[1] (value 1.0)>,\n",
       " 2: <gurobi.Var Y[2] (value 1.0)>,\n",
       " 3: <gurobi.Var Y[3] (value 1.0)>,\n",
       " 4: <gurobi.Var Y[4] (value 1.0)>,\n",
       " 5: <gurobi.Var Y[5] (value 1.0)>,\n",
       " 6: <gurobi.Var Y[6] (value 1.0)>,\n",
       " 7: <gurobi.Var Y[7] (value 0.0)>}"
      ]
     },
     "execution_count": 19,
     "metadata": {},
     "output_type": "execute_result"
    }
   ],
   "source": [
    "Y"
   ]
  },
  {
   "cell_type": "code",
   "execution_count": 20,
   "metadata": {},
   "outputs": [
    {
     "data": {
      "text/plain": [
       "{0: <gurobi.Var I[0] (value 0.0)>,\n",
       " 1: <gurobi.Var I[1] (value 0.0)>,\n",
       " 2: <gurobi.Var I[2] (value 0.0)>,\n",
       " 3: <gurobi.Var I[3] (value 0.0)>,\n",
       " 4: <gurobi.Var I[4] (value 0.0)>,\n",
       " 5: <gurobi.Var I[5] (value 0.0)>,\n",
       " 6: <gurobi.Var I[6] (value 0.0)>,\n",
       " 7: <gurobi.Var I[7] (value 0.0)>}"
      ]
     },
     "execution_count": 20,
     "metadata": {},
     "output_type": "execute_result"
    }
   ],
   "source": [
    "I"
   ]
  },
  {
   "cell_type": "code",
   "execution_count": 21,
   "metadata": {},
   "outputs": [
    {
     "name": "stdout",
     "output_type": "stream",
     "text": [
      "Optimize time: 0.063972 sec\n"
     ]
    }
   ],
   "source": [
    "# execution time\n",
    "if __name__ == '__main__':\n",
    "    print(\"Optimize time: %.5g sec\" % csilsp_ncs.Runtime)"
   ]
  },
  {
   "cell_type": "code",
   "execution_count": 22,
   "metadata": {},
   "outputs": [],
   "source": [
    "# Write results to file\n",
    "\n",
    "results = \"----------------------------------------------------------------\" + \"\\n\"\n",
    "results += \" Parameter T = %d \" % (T) + \"\\n\"\n",
    "results += \" Parameters d,h,p,s,C random generation from %d to %d \" % (l_b,u_b) + \"\\n\"\n",
    "results += \" Time window demands (d_w) random generation from %d to %d \" % (l_b,u_b) + \"\\n\"\n",
    "results += \" Execution time = %.5g sec \" % csilsp_ncs.Runtime + \"\\n\"\n",
    "results += \"----------------------------------------------------------------\" + \"\\n\\n\\n\""
   ]
  },
  {
   "cell_type": "code",
   "execution_count": 23,
   "metadata": {},
   "outputs": [],
   "source": [
    "with open(\"csilsp_ncs_results.txt\", \"a\") as write_file:\n",
    "    write_file.write(results)"
   ]
  }
 ],
 "metadata": {
  "kernelspec": {
   "display_name": "Python 3",
   "language": "python",
   "name": "python3"
  },
  "language_info": {
   "codemirror_mode": {
    "name": "ipython",
    "version": 3
   },
   "file_extension": ".py",
   "mimetype": "text/x-python",
   "name": "python",
   "nbconvert_exporter": "python",
   "pygments_lexer": "ipython3",
   "version": "3.7.3"
  }
 },
 "nbformat": 4,
 "nbformat_minor": 2
}
