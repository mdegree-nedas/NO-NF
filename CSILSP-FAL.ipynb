{
 "cells": [
  {
   "cell_type": "markdown",
   "metadata": {},
   "source": [
    "# CSILSP-FAL"
   ]
  },
  {
   "cell_type": "code",
   "execution_count": 1,
   "metadata": {},
   "outputs": [],
   "source": [
    "import gurobipy as gb\n",
    "from CSILSPGenerator import Generator"
   ]
  },
  {
   "cell_type": "markdown",
   "metadata": {},
   "source": [
    "#### Decision variables:\n",
    "\n",
    "$$\n",
    "Y_t = \\begin{cases}\n",
    "1 \\text{ if } Z_{tk} > 0\\\\\n",
    "0 \\text{ otherwise }\n",
    "\\end{cases}\n",
    "$$\n",
    "\n",
    "$$\n",
    "Z_{kt} = \\begin{cases}\n",
    "\\text{ quantity produced/supplied\n",
    "in period k } \\\\ \\text{ to satisfy the demand in period t }\n",
    "\\end{cases}\n",
    "$$"
   ]
  },
  {
   "cell_type": "markdown",
   "metadata": {},
   "source": [
    "#### Parameters:\n",
    "\n",
    "$$\n",
    "T = \\begin{cases}\n",
    "\\text{ number of periods in the horizon }\n",
    "\\end{cases}\n",
    "$$\n",
    "\n",
    "$$\n",
    "d_t = \\begin{cases}\n",
    "\\text{ Customer aggregate demand that must } \\\\ \\text{ be delivered at the end of period t }\n",
    "\\end{cases}\n",
    "$$\n",
    "\n",
    "$$\n",
    "h_t = \\begin{cases}\n",
    "\\text{ Holding cost per unit of product in stock at the end of period t }\n",
    "\\end{cases}\n",
    "$$\n",
    "\n",
    "$$\n",
    "p_t = \\begin{cases}\n",
    "\\text{ Unit production/supplying cost in period t }\n",
    "\\end{cases}\n",
    "$$\n",
    "\n",
    "$$\n",
    "s_t = \\begin{cases}\n",
    "\\text{ Fixed setup cost in period t }\n",
    "\\end{cases}\n",
    "$$\n",
    "\n",
    "$$\n",
    "C_t = \\begin{cases}\n",
    "\\text{ Production/Supply capacity at period t }\n",
    "\\end{cases}\n",
    "$$"
   ]
  },
  {
   "cell_type": "markdown",
   "metadata": {},
   "source": [
    "#### CSILSP-FAL (disaggregate model)\n",
    "\n",
    "$$\n",
    "\\begin{alignat}{3}\n",
    "& \\min \\sum_{t=1}^{T}\\sum_{k=t}^{T} (p_t + \\sum_{j=t}^{k-1}h_j)Z_{tk} + \\sum_{t=1}^{T}s_tY_t &\\\\\n",
    "\\text{s.t.} \\;\\;\\;\\;\\;&\\\\\n",
    "\\sum_{k=1}^{t}Z_{kt} &= d_t \\;\\; , & \\forall t \\;\\;\\\\\n",
    "Z_{tk} &\\leq d_kY_t \\;\\; , & \\forall t,k \\geq t \\;\\;\\\\\n",
    "\\sum_{k=t}^{T}Z_{tk} &\\leq C_t \\;\\; , & \\forall t \\;\\;\\\\\n",
    "Z_{tk} &\\geq 0 \\;\\; , & \\forall t,k \\geq t \\;\\;\\\\\n",
    "Y_t &\\in \\{0,1\\} \\;\\; , & \\forall t \\;\\;\n",
    "\\end{alignat}\n",
    "$$"
   ]
  },
  {
   "cell_type": "code",
   "execution_count": 2,
   "metadata": {},
   "outputs": [],
   "source": [
    "# generation parameters\n",
    "\n",
    "if __name__ == '__main__':\n",
    "    T = 8\n",
    "    l_b = 10\n",
    "    u_b = 20"
   ]
  },
  {
   "cell_type": "code",
   "execution_count": 3,
   "metadata": {},
   "outputs": [],
   "source": [
    "# generate instance\n",
    "\n",
    "if __name__ == '__main__' or __name__ == '__autoexec__':\n",
    "    instance = Generator(T)\n",
    "    instance.generate(a=l_b,b=u_b)"
   ]
  },
  {
   "cell_type": "code",
   "execution_count": 4,
   "metadata": {},
   "outputs": [
    {
     "name": "stdout",
     "output_type": "stream",
     "text": [
      "    d   C   h   p   s\n",
      "T                    \n",
      "0  18  30  18  17  19\n",
      "1  18  19  11  19  20\n",
      "2  13  18  20  17  15\n",
      "3  20  32  20  16  15\n",
      "4  14  26  14  15  17\n",
      "5  15  18  20  10  17\n",
      "6  18  32  20  16  17\n",
      "7  15  27  20  13  20\n"
     ]
    }
   ],
   "source": [
    "if __name__ == '__main__':\n",
    "    print(instance.printData())"
   ]
  },
  {
   "cell_type": "code",
   "execution_count": 5,
   "metadata": {},
   "outputs": [],
   "source": [
    "# variable bindings\n",
    "\n",
    "T = instance.get_T()\n",
    "d = instance.get_d()\n",
    "C = instance.get_C()\n",
    "h = instance.get_h()\n",
    "p = instance.get_p()\n",
    "s = instance.get_s()"
   ]
  },
  {
   "cell_type": "code",
   "execution_count": 6,
   "metadata": {},
   "outputs": [
    {
     "name": "stdout",
     "output_type": "stream",
     "text": [
      "Academic license - for non-commercial use only\n"
     ]
    }
   ],
   "source": [
    "# model\n",
    "\n",
    "csilsp_fal = gb.Model()"
   ]
  },
  {
   "cell_type": "code",
   "execution_count": 7,
   "metadata": {},
   "outputs": [],
   "source": [
    "# decision variables\n",
    "\n",
    "Y = csilsp_fal.addVars(T,vtype=gb.GRB.BINARY,name='Y')\n",
    "\n",
    "Z = csilsp_fal.addVars(T,T,vtype=gb.GRB.CONTINUOUS,name='Z')\n",
    "\n",
    "csilsp_fal.update()\n",
    "csilsp_fal.write('csilsp_fal.lp')"
   ]
  },
  {
   "cell_type": "markdown",
   "metadata": {},
   "source": [
    "$$\n",
    "\\begin{alignat}{3}\n",
    "& \\min \\sum_{t=1}^{T}\\sum_{k=t}^{T} (p_t + \\sum_{j=t}^{k-1}h_j)Z_{tk} + \\sum_{t=1}^{T}s_tY_t &\n",
    "\\end{alignat}\n",
    "$$"
   ]
  },
  {
   "cell_type": "code",
   "execution_count": 8,
   "metadata": {},
   "outputs": [],
   "source": [
    "# objective function\n",
    "\n",
    "objexpr = gb.quicksum( ( p[t] + (gb.quicksum( h[j] for j in range(t,k) )) )*Z[t,k] for t in range(T) for k in range(t,T) ) \\\n",
    "          + Y.prod(s)\n",
    "\n",
    "csilsp_fal.setObjective(objexpr,gb.GRB.MINIMIZE)\n",
    "\n",
    "csilsp_fal.update()\n",
    "csilsp_fal.write('csilsp_fal.lp')"
   ]
  },
  {
   "cell_type": "markdown",
   "metadata": {},
   "source": [
    "$$\n",
    "\\begin{alignat}{3}\n",
    "\\sum_{k=1}^{t}Z_{kt} &= d_t \\;\\; , & \\forall t \\;\\;\n",
    "\\end{alignat}\n",
    "$$"
   ]
  },
  {
   "cell_type": "code",
   "execution_count": 9,
   "metadata": {},
   "outputs": [],
   "source": [
    "# constraints\n",
    "\n",
    "csilsp_fal.addConstrs(( (gb.quicksum(Z[k,t] for k in range(t+1))) == d[t] for t in range(T) ),name='constrZ')\n",
    "\n",
    "csilsp_fal.update()\n",
    "csilsp_fal.write('csilsp_fal.lp')"
   ]
  },
  {
   "cell_type": "markdown",
   "metadata": {},
   "source": [
    "$$\n",
    "\\begin{alignat}{3}\n",
    "Z_{tk} &\\leq d_kY_t \\;\\; , & \\forall t,k \\geq t \\;\\;\n",
    "\\end{alignat}\n",
    "$$"
   ]
  },
  {
   "cell_type": "code",
   "execution_count": 10,
   "metadata": {},
   "outputs": [],
   "source": [
    "csilsp_fal.addConstrs(( Z[t,k] <= d[k]*Y[t] for t in range(T) for k in range(t,T) ),name='constrZ2')\n",
    "\n",
    "csilsp_fal.update()\n",
    "csilsp_fal.write('csilsp_fal.lp')"
   ]
  },
  {
   "cell_type": "markdown",
   "metadata": {},
   "source": [
    "$$\n",
    "\\begin{alignat}{3}\n",
    "\\sum_{k=t}^{T}Z_{tk} &\\leq C_t \\;\\; , & \\forall t \\;\\;\n",
    "\\end{alignat}\n",
    "$$"
   ]
  },
  {
   "cell_type": "code",
   "execution_count": 11,
   "metadata": {},
   "outputs": [],
   "source": [
    "csilsp_fal.addConstrs(( (gb.quicksum(Z[t,k] for k in range(t,T))) <= C[t] for t in range(T) ),name='constrZ3')\n",
    "\n",
    "csilsp_fal.update()\n",
    "csilsp_fal.write('csilsp_fal.lp')"
   ]
  },
  {
   "cell_type": "markdown",
   "metadata": {},
   "source": [
    "$$\n",
    "\\begin{alignat}{3}\n",
    "Z_{tk} &\\geq 0 \\;\\; , & \\forall t,k \\geq t \\;\\;\\\\\n",
    "\\end{alignat}\n",
    "$$"
   ]
  },
  {
   "cell_type": "code",
   "execution_count": 12,
   "metadata": {},
   "outputs": [],
   "source": [
    "for t in range(T):\n",
    "    for k in range(t,T):\n",
    "        Z[t,k].lb = 0.0\n",
    "\n",
    "csilsp_fal.update()\n",
    "csilsp_fal.write('csilsp_fal.lp')"
   ]
  },
  {
   "cell_type": "code",
   "execution_count": 13,
   "metadata": {},
   "outputs": [
    {
     "name": "stdout",
     "output_type": "stream",
     "text": [
      "Optimize a model with 52 rows, 72 columns and 144 nonzeros\n",
      "Variable types: 64 continuous, 8 integer (8 binary)\n",
      "Coefficient statistics:\n",
      "  Matrix range     [1e+00, 2e+01]\n",
      "  Objective range  [1e+01, 1e+02]\n",
      "  Bounds range     [1e+00, 1e+00]\n",
      "  RHS range        [1e+01, 3e+01]\n",
      "Presolve removed 21 rows and 32 columns\n",
      "Presolve time: 0.00s\n",
      "Presolved: 31 rows, 40 columns, 108 nonzeros\n",
      "Variable types: 34 continuous, 6 integer (6 binary)\n",
      "\n",
      "Root relaxation: objective 2.172000e+03, 6 iterations, 0.00 seconds\n",
      "\n",
      "    Nodes    |    Current Node    |     Objective Bounds      |     Work\n",
      " Expl Unexpl |  Obj  Depth IntInf | Incumbent    BestBd   Gap | It/Node Time\n",
      "\n",
      "*    0     0               0    2172.0000000 2172.00000  0.00%     -    0s\n",
      "\n",
      "Explored 0 nodes (6 simplex iterations) in 0.05 seconds\n",
      "Thread count was 4 (of 4 available processors)\n",
      "\n",
      "Solution count 1: 2172 \n",
      "\n",
      "Optimal solution found (tolerance 1.00e-04)\n",
      "Best objective 2.172000000000e+03, best bound 2.172000000000e+03, gap 0.0000%\n"
     ]
    }
   ],
   "source": [
    "# solve model\n",
    "\n",
    "csilsp_fal.optimize()"
   ]
  },
  {
   "cell_type": "code",
   "execution_count": 14,
   "metadata": {},
   "outputs": [
    {
     "name": "stdout",
     "output_type": "stream",
     "text": [
      "Soluzione ottima: 2172.0\n"
     ]
    }
   ],
   "source": [
    "if __name__ == '__main__':\n",
    "    print(\"Soluzione ottima:\",csilsp_fal.ObjVal)"
   ]
  },
  {
   "cell_type": "code",
   "execution_count": 15,
   "metadata": {},
   "outputs": [
    {
     "data": {
      "text/plain": [
       "{0: <gurobi.Var Y[0] (value 1.0)>,\n",
       " 1: <gurobi.Var Y[1] (value 1.0)>,\n",
       " 2: <gurobi.Var Y[2] (value 1.0)>,\n",
       " 3: <gurobi.Var Y[3] (value 1.0)>,\n",
       " 4: <gurobi.Var Y[4] (value 1.0)>,\n",
       " 5: <gurobi.Var Y[5] (value 1.0)>,\n",
       " 6: <gurobi.Var Y[6] (value 1.0)>,\n",
       " 7: <gurobi.Var Y[7] (value 1.0)>}"
      ]
     },
     "execution_count": 15,
     "metadata": {},
     "output_type": "execute_result"
    }
   ],
   "source": [
    "Y"
   ]
  },
  {
   "cell_type": "code",
   "execution_count": 16,
   "metadata": {},
   "outputs": [
    {
     "data": {
      "text/plain": [
       "{(0, 0): <gurobi.Var Z[0,0] (value 18.0)>,\n",
       " (0, 1): <gurobi.Var Z[0,1] (value 0.0)>,\n",
       " (0, 2): <gurobi.Var Z[0,2] (value 0.0)>,\n",
       " (0, 3): <gurobi.Var Z[0,3] (value 0.0)>,\n",
       " (0, 4): <gurobi.Var Z[0,4] (value 0.0)>,\n",
       " (0, 5): <gurobi.Var Z[0,5] (value 0.0)>,\n",
       " (0, 6): <gurobi.Var Z[0,6] (value 0.0)>,\n",
       " (0, 7): <gurobi.Var Z[0,7] (value 0.0)>,\n",
       " (1, 0): <gurobi.Var Z[1,0] (value 0.0)>,\n",
       " (1, 1): <gurobi.Var Z[1,1] (value 18.0)>,\n",
       " (1, 2): <gurobi.Var Z[1,2] (value 0.0)>,\n",
       " (1, 3): <gurobi.Var Z[1,3] (value 0.0)>,\n",
       " (1, 4): <gurobi.Var Z[1,4] (value 0.0)>,\n",
       " (1, 5): <gurobi.Var Z[1,5] (value 0.0)>,\n",
       " (1, 6): <gurobi.Var Z[1,6] (value 0.0)>,\n",
       " (1, 7): <gurobi.Var Z[1,7] (value 0.0)>,\n",
       " (2, 0): <gurobi.Var Z[2,0] (value 0.0)>,\n",
       " (2, 1): <gurobi.Var Z[2,1] (value 0.0)>,\n",
       " (2, 2): <gurobi.Var Z[2,2] (value 13.0)>,\n",
       " (2, 3): <gurobi.Var Z[2,3] (value 0.0)>,\n",
       " (2, 4): <gurobi.Var Z[2,4] (value 0.0)>,\n",
       " (2, 5): <gurobi.Var Z[2,5] (value 0.0)>,\n",
       " (2, 6): <gurobi.Var Z[2,6] (value 0.0)>,\n",
       " (2, 7): <gurobi.Var Z[2,7] (value 0.0)>,\n",
       " (3, 0): <gurobi.Var Z[3,0] (value 0.0)>,\n",
       " (3, 1): <gurobi.Var Z[3,1] (value 0.0)>,\n",
       " (3, 2): <gurobi.Var Z[3,2] (value 0.0)>,\n",
       " (3, 3): <gurobi.Var Z[3,3] (value 20.0)>,\n",
       " (3, 4): <gurobi.Var Z[3,4] (value 0.0)>,\n",
       " (3, 5): <gurobi.Var Z[3,5] (value 0.0)>,\n",
       " (3, 6): <gurobi.Var Z[3,6] (value 0.0)>,\n",
       " (3, 7): <gurobi.Var Z[3,7] (value 0.0)>,\n",
       " (4, 0): <gurobi.Var Z[4,0] (value 0.0)>,\n",
       " (4, 1): <gurobi.Var Z[4,1] (value 0.0)>,\n",
       " (4, 2): <gurobi.Var Z[4,2] (value 0.0)>,\n",
       " (4, 3): <gurobi.Var Z[4,3] (value 0.0)>,\n",
       " (4, 4): <gurobi.Var Z[4,4] (value 14.0)>,\n",
       " (4, 5): <gurobi.Var Z[4,5] (value 0.0)>,\n",
       " (4, 6): <gurobi.Var Z[4,6] (value 0.0)>,\n",
       " (4, 7): <gurobi.Var Z[4,7] (value 0.0)>,\n",
       " (5, 0): <gurobi.Var Z[5,0] (value 0.0)>,\n",
       " (5, 1): <gurobi.Var Z[5,1] (value 0.0)>,\n",
       " (5, 2): <gurobi.Var Z[5,2] (value 0.0)>,\n",
       " (5, 3): <gurobi.Var Z[5,3] (value 0.0)>,\n",
       " (5, 4): <gurobi.Var Z[5,4] (value 0.0)>,\n",
       " (5, 5): <gurobi.Var Z[5,5] (value 15.0)>,\n",
       " (5, 6): <gurobi.Var Z[5,6] (value 0.0)>,\n",
       " (5, 7): <gurobi.Var Z[5,7] (value 0.0)>,\n",
       " (6, 0): <gurobi.Var Z[6,0] (value 0.0)>,\n",
       " (6, 1): <gurobi.Var Z[6,1] (value 0.0)>,\n",
       " (6, 2): <gurobi.Var Z[6,2] (value 0.0)>,\n",
       " (6, 3): <gurobi.Var Z[6,3] (value 0.0)>,\n",
       " (6, 4): <gurobi.Var Z[6,4] (value 0.0)>,\n",
       " (6, 5): <gurobi.Var Z[6,5] (value 0.0)>,\n",
       " (6, 6): <gurobi.Var Z[6,6] (value 18.0)>,\n",
       " (6, 7): <gurobi.Var Z[6,7] (value 0.0)>,\n",
       " (7, 0): <gurobi.Var Z[7,0] (value 0.0)>,\n",
       " (7, 1): <gurobi.Var Z[7,1] (value 0.0)>,\n",
       " (7, 2): <gurobi.Var Z[7,2] (value 0.0)>,\n",
       " (7, 3): <gurobi.Var Z[7,3] (value 0.0)>,\n",
       " (7, 4): <gurobi.Var Z[7,4] (value 0.0)>,\n",
       " (7, 5): <gurobi.Var Z[7,5] (value 0.0)>,\n",
       " (7, 6): <gurobi.Var Z[7,6] (value 0.0)>,\n",
       " (7, 7): <gurobi.Var Z[7,7] (value 15.0)>}"
      ]
     },
     "execution_count": 16,
     "metadata": {},
     "output_type": "execute_result"
    }
   ],
   "source": [
    "Z"
   ]
  },
  {
   "cell_type": "code",
   "execution_count": 17,
   "metadata": {},
   "outputs": [
    {
     "name": "stdout",
     "output_type": "stream",
     "text": [
      "Optimize time: 0.056175 sec\n"
     ]
    }
   ],
   "source": [
    "# execution time\n",
    "if __name__ == '__main__':\n",
    "    print(\"Optimize time: %.5g sec\" % csilsp_fal.Runtime)"
   ]
  },
  {
   "cell_type": "code",
   "execution_count": 18,
   "metadata": {},
   "outputs": [],
   "source": [
    "# Write results to file\n",
    "\n",
    "results = \"----------------------------------------------------------------\" + \"\\n\"\n",
    "results += \" Parameter T = %d \" % (T) + \"\\n\"\n",
    "results += \" Parameters d,h,p,s,C random generation from %d to %d \" % (l_b,u_b) + \"\\n\"\n",
    "results += \" Execution time = %.5g sec \" % csilsp_fal.Runtime + \"\\n\"\n",
    "results += \"----------------------------------------------------------------\" + \"\\n\\n\\n\""
   ]
  },
  {
   "cell_type": "code",
   "execution_count": 19,
   "metadata": {},
   "outputs": [],
   "source": [
    "with open(\"csilsp_fal_results.txt\", \"a\") as write_file:\n",
    "    write_file.write(results)"
   ]
  }
 ],
 "metadata": {
  "kernelspec": {
   "display_name": "Python 3",
   "language": "python",
   "name": "python3"
  },
  "language_info": {
   "codemirror_mode": {
    "name": "ipython",
    "version": 3
   },
   "file_extension": ".py",
   "mimetype": "text/x-python",
   "name": "python",
   "nbconvert_exporter": "python",
   "pygments_lexer": "ipython3",
   "version": "3.7.3"
  }
 },
 "nbformat": 4,
 "nbformat_minor": 2
}
